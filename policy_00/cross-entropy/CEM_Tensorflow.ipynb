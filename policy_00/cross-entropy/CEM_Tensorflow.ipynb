{
 "cells": [
  {
   "cell_type": "markdown",
   "metadata": {},
   "source": [
    "# Cross-Entropy Method\n",
    "\n",
    "---\n",
    "\n",
    "In this notebook, we will train a Cross-Entropy Method with OpenAI Gym's MountainCarContinuous environment."
   ]
  },
  {
   "cell_type": "markdown",
   "metadata": {},
   "source": [
    "### 1. Import the Necessary Packages"
   ]
  },
  {
   "cell_type": "code",
   "execution_count": 1,
   "metadata": {},
   "outputs": [
    {
     "name": "stdout",
     "output_type": "stream",
     "text": [
      "Requirement already satisfied: pyvirtualdisplay in /opt/intel/intelpython3/lib/python3.6/site-packages\n",
      "Requirement already satisfied: EasyProcess in /opt/intel/intelpython3/lib/python3.6/site-packages (from pyvirtualdisplay)\n",
      "\u001b[33mYou are using pip version 9.0.3, however version 18.1 is available.\n",
      "You should consider upgrading via the 'pip install --upgrade pip' command.\u001b[0m\n"
     ]
    }
   ],
   "source": [
    "import gym\n",
    "import math\n",
    "import numpy as np\n",
    "from collections import deque\n",
    "import os\n",
    "import matplotlib.pyplot as plt\n",
    "%matplotlib inline\n",
    "\n",
    "!python -m pip install pyvirtualdisplay\n",
    "from pyvirtualdisplay import Display\n",
    "display = Display(visible=0, size=(1400, 900))\n",
    "display.start()\n",
    "\n",
    "is_ipython = 'inline' in plt.get_backend()\n",
    "if is_ipython:\n",
    "    from IPython import display\n",
    "\n",
    "plt.ion()\n",
    "\n",
    "# GPU option\n",
    "USE_GPU = 1\n",
    "os.environ['CUDA_VISIBLE_DEVICES'] = \"0\" if USE_GPU else \"-1\"\n",
    "\n",
    "import tensorflow as tf"
   ]
  },
  {
   "cell_type": "markdown",
   "metadata": {},
   "source": [
    "### 2. Instantiate the Environment and Agent"
   ]
  },
  {
   "cell_type": "code",
   "execution_count": 2,
   "metadata": {},
   "outputs": [
    {
     "name": "stdout",
     "output_type": "stream",
     "text": [
      "\u001b[33mWARN: gym.spaces.Box autodetected dtype as <class 'numpy.float32'>. Please provide explicit dtype.\u001b[0m\n",
      "\u001b[33mWARN: gym.spaces.Box autodetected dtype as <class 'numpy.float32'>. Please provide explicit dtype.\u001b[0m\n",
      "observation space: Box(2,)\n",
      "action space: Box(1,)\n",
      "  - low: [-1.]\n",
      "  - high: [1.]\n"
     ]
    }
   ],
   "source": [
    "env = gym.make('MountainCarContinuous-v0')\n",
    "s_num = 1015\n",
    "env.seed(s_num)\n",
    "np.random.seed(s_num)\n",
    "\n",
    "print('observation space:', env.observation_space)\n",
    "print('action space:', env.action_space)\n",
    "print('  - low:', env.action_space.low)\n",
    "print('  - high:', env.action_space.high)\n",
    "\n",
    "class Agent():\n",
    "    def __init__(self, env, h_size=16):\n",
    "        self.env = env\n",
    "        # state, hidden layer, action sizes\n",
    "        self.s_size = env.observation_space.shape[0]\n",
    "        self.h_size = h_size\n",
    "        self.a_size = env.action_space.shape[0]\n",
    "        # define layers\n",
    "        tf.reset_default_graph()\n",
    "        self.sess = tf.Session()\n",
    "        self._build_model()\n",
    "        self.sess.run(tf.global_variables_initializer())\n",
    "        \n",
    "    def _build_model(self):\n",
    "        self.weight_list = []\n",
    "        self.inputs = tf.placeholder(shape=(None, self.s_size), dtype=tf.float32, name = 'input')\n",
    "        x = tf.layers.dense(inputs=self.inputs, units=self.h_size, activation=tf.nn.relu, name = 'hidden1')\n",
    "        self.weight_list.append(tf.get_default_graph().get_tensor_by_name(os.path.split(x.name)[0] + '/kernel:0'))\n",
    "        self.weight_list.append(tf.get_default_graph().get_tensor_by_name(os.path.split(x.name)[0] + '/bias:0'))\n",
    "        \n",
    "        self.action_out = tf.layers.dense(x, units=self.a_size, activation=tf.nn.tanh, name = 'output')\n",
    "        self.weight_list.append(tf.get_default_graph().get_tensor_by_name(os.path.split(self.action_out.name)[0] + '/kernel:0'))\n",
    "        self.weight_list.append(tf.get_default_graph().get_tensor_by_name(os.path.split(self.action_out.name)[0] + '/bias:0'))\n",
    "        \n",
    "    def set_weights(self, weights):\n",
    "        self.sess.run([tf.assign(i, j) for i,j in zip(self.weight_list, weights)])\n",
    "    \n",
    "    def get_weights_dim(self):\n",
    "        return [i.shape.as_list() for i in self.weight_list]\n",
    "        \n",
    "    def evaluate(self, weights, gamma=1.0, max_t=5000):\n",
    "        self.set_weights(weights)\n",
    "        episode_return = 0.0\n",
    "        state = self.env.reset()\n",
    "        for t in range(max_t):\n",
    "            state = state.ravel()\n",
    "            action = self.sess.run([self.action_out], feed_dict = {self.inputs:state[np.newaxis,:]})\n",
    "            state, reward, done, _ = self.env.step(action)\n",
    "            episode_return += reward * math.pow(gamma, t)\n",
    "            if done:\n",
    "                break\n",
    "        return episode_return\n",
    "    \n",
    "agent = Agent(env)"
   ]
  },
  {
   "cell_type": "markdown",
   "metadata": {},
   "source": [
    "### 3. Train the Agent with a Cross-Entropy Method\n",
    "\n",
    "Run the code cell below to train the agent from scratch.  Alternatively, you can skip to the next code cell to load the pre-trained weights from file."
   ]
  },
  {
   "cell_type": "code",
   "execution_count": 3,
   "metadata": {},
   "outputs": [
    {
     "name": "stdout",
     "output_type": "stream",
     "text": [
      "Episode 10\tAverage Score: -5.70\n",
      "Episode 20\tAverage Score: 0.71\n",
      "Episode 30\tAverage Score: 27.95\n",
      "Episode 40\tAverage Score: 44.37\n",
      "Episode 50\tAverage Score: 54.58\n",
      "Episode 60\tAverage Score: 60.85\n",
      "Episode 70\tAverage Score: 65.36\n",
      "Episode 80\tAverage Score: 68.85\n",
      "Episode 90\tAverage Score: 71.57\n",
      "Episode 100\tAverage Score: 73.83\n",
      "Episode 110\tAverage Score: 83.74\n",
      "\n",
      "Environment solved in 17 iterations!\tAverage Score: 91.28\n"
     ]
    },
    {
     "data": {
      "image/png": "[encoded data removed]",
      "text/plain": [
       "<Figure size 432x288 with 1 Axes>"
      ]
     },
     "metadata": {
      "needs_background": "light"
     },
     "output_type": "display_data"
    }
   ],
   "source": [
    "def get_random_weights(agent, sigma):\n",
    "    return [sigma * np.random.randn(*i) for i in agent.get_weights_dim()]\n",
    "\n",
    "def cem(n_iterations=500, max_t=1000, gamma=1.0, print_every=10, pop_size=50, elite_frac=0.2, sigma=0.5):\n",
    "    \"\"\"PyTorch implementation of a cross-entropy method.\n",
    "        \n",
    "    Params\n",
    "    ======\n",
    "        n_iterations (int): maximum number of training iterations\n",
    "        max_t (int): maximum number of timesteps per episode\n",
    "        gamma (float): discount rate\n",
    "        print_every (int): how often to print average score (over last 100 episodes)\n",
    "        pop_size (int): size of population at each iteration\n",
    "        elite_frac (float): percentage of top performers to use in update\n",
    "        sigma (float): standard deviation of additive noise\n",
    "    \"\"\"\n",
    "    n_elite=int(pop_size*elite_frac)\n",
    "\n",
    "    scores_deque = deque(maxlen=100)\n",
    "    scores = []\n",
    "    best_weight = get_random_weights(agent, sigma)\n",
    "\n",
    "    for i_iteration in range(1, n_iterations+1):\n",
    "        # Generate k (k = population_size) random weights and add it current network's weight\n",
    "        weights_pop = weights_pop = [[j+k for j,k in zip(best_weight,get_random_weights(agent, sigma)) ] for i in range(pop_size)]\n",
    "        # Compute rewards based on these simulated weights\n",
    "        rewards = np.array([agent.evaluate(weights, gamma, max_t) for weights in weights_pop])\n",
    "        \n",
    "        # sort rewards, get index of first n rewards of good one\n",
    "        elite_idxs = rewards.argsort()[-n_elite:]\n",
    "        elite_weights = [weights_pop[i] for i in elite_idxs]\n",
    "        # take of the average of these good weights\n",
    "        best_weight = np.array(elite_weights).mean(axis=0)\n",
    "        \n",
    "        # Compute reward (also update this averaging weights to the network)\n",
    "        reward = agent.evaluate(best_weight, gamma=1.0)\n",
    "        \n",
    "        # record it\n",
    "        scores_deque.append(reward)\n",
    "        scores.append(reward)\n",
    "        \n",
    "        if i_iteration % print_every == 0:\n",
    "            print('Episode {}\\tAverage Score: {:.2f}'.format(i_iteration, np.mean(scores_deque)))\n",
    "\n",
    "        if np.mean(scores_deque)>=90.0:\n",
    "            print('\\nEnvironment solved in {:d} iterations!\\tAverage Score: {:.2f}'.format(i_iteration-100, np.mean(scores_deque)))\n",
    "            break\n",
    "    return scores\n",
    "\n",
    "scores = cem()\n",
    "\n",
    "# plot the scores\n",
    "fig = plt.figure()\n",
    "ax = fig.add_subplot(111)\n",
    "plt.plot(np.arange(1, len(scores)+1), scores)\n",
    "plt.ylabel('Score')\n",
    "plt.xlabel('Episode #')\n",
    "plt.show()"
   ]
  },
  {
   "cell_type": "markdown",
   "metadata": {},
   "source": [
    "### 4. Watch a Smart Agent!\n",
    "\n",
    "In the next code cell, you will load the trained weights from file to watch a smart agent!"
   ]
  },
  {
   "cell_type": "code",
   "execution_count": 12,
   "metadata": {},
   "outputs": [
    {
     "data": {
      "image/png": "[encoded data removed]",
      "text/plain": [
       "<Figure size 432x288 with 1 Axes>"
      ]
     },
     "metadata": {
      "needs_background": "light"
     },
     "output_type": "display_data"
    }
   ],
   "source": [
    "state = env.reset()\n",
    "img = plt.imshow(env.render(mode='rgb_array'))\n",
    "while True:\n",
    "    action = agent.sess.run([agent.action_out], feed_dict = {agent.inputs:state.ravel()[np.newaxis,:]})\n",
    "    img.set_data(env.render(mode='rgb_array')) \n",
    "    plt.axis('off')\n",
    "    display.display(plt.gcf())\n",
    "    display.clear_output(wait=True)\n",
    "    next_state, reward, done, _ = env.step(action)\n",
    "    state = next_state\n",
    "    if done:\n",
    "        break\n",
    "\n",
    "env.close()"
   ]
  }
 ],
 "metadata": {
  "anaconda-cloud": {},
  "kernelspec": {
   "display_name": "Python 3",
   "language": "python",
   "name": "python3"
  },
  "language_info": {
   "codemirror_mode": {
    "name": "ipython",
    "version": 3
   },
   "file_extension": ".py",
   "mimetype": "text/x-python",
   "name": "python",
   "nbconvert_exporter": "python",
   "pygments_lexer": "ipython3",
   "version": "3.6.3"
  }
 },
 "nbformat": 4,
 "nbformat_minor": 2
}
