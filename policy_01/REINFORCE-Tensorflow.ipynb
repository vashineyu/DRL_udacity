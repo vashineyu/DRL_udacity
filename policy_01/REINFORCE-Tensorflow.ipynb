{
 "cells": [
  {
   "cell_type": "markdown",
   "metadata": {},
   "source": [
    "# REINFORCE\n",
    "\n",
    "---\n",
    "\n",
    "In this notebook, we will train REINFORCE with OpenAI Gym's Cartpole environment."
   ]
  },
  {
   "cell_type": "markdown",
   "metadata": {},
   "source": [
    "### 1. Import the Necessary Packages"
   ]
  },
  {
   "cell_type": "code",
   "execution_count": 1,
   "metadata": {},
   "outputs": [
    {
     "name": "stdout",
     "output_type": "stream",
     "text": [
      "Requirement already satisfied: pyvirtualdisplay in /opt/intel/intelpython3/lib/python3.6/site-packages\n",
      "Requirement already satisfied: EasyProcess in /opt/intel/intelpython3/lib/python3.6/site-packages (from pyvirtualdisplay)\n",
      "\u001b[33mYou are using pip version 9.0.3, however version 18.1 is available.\n",
      "You should consider upgrading via the 'pip install --upgrade pip' command.\u001b[0m\n"
     ]
    }
   ],
   "source": [
    "import gym\n",
    "import os\n",
    "gym.logger.set_level(40) # suppress warnings (please remove if gives error)\n",
    "import numpy as np\n",
    "from collections import deque\n",
    "import matplotlib.pyplot as plt\n",
    "%matplotlib inline\n",
    "\n",
    "!python -m pip install pyvirtualdisplay\n",
    "from pyvirtualdisplay import Display\n",
    "display = Display(visible=0, size=(1400, 900))\n",
    "display.start()\n",
    "\n",
    "is_ipython = 'inline' in plt.get_backend()\n",
    "if is_ipython:\n",
    "    from IPython import display\n",
    "\n",
    "plt.ion()"
   ]
  },
  {
   "cell_type": "markdown",
   "metadata": {},
   "source": [
    "### 2. Define the Architecture of the Policy"
   ]
  },
  {
   "cell_type": "code",
   "execution_count": 63,
   "metadata": {},
   "outputs": [
    {
     "name": "stdout",
     "output_type": "stream",
     "text": [
      "observation space: Box(4,)\n",
      "action space: Discrete(2)\n"
     ]
    }
   ],
   "source": [
    "env = gym.make('CartPole-v0')\n",
    "env.seed(0)\n",
    "print('observation space:', env.observation_space)\n",
    "print('action space:', env.action_space)\n",
    "\n",
    "USE_GPU = 0\n",
    "if USE_GPU:\n",
    "    os.environ['CUDA_VISIBLE_DEVICES'] = \"0\"\n",
    "else:\n",
    "    os.environ['CUDA_VISIBLE_DEVICES'] = \"-1\"\n",
    "\n",
    "import tensorflow as tf\n",
    "    \n",
    "class Policy():\n",
    "    def __init__(self, s_size=4, h_size=16, a_size=2):\n",
    "        self.s_size = s_size\n",
    "        self.h_size = h_size\n",
    "        self.a_size = a_size\n",
    "        \n",
    "        self._build_network()\n",
    "        print(\"Build model done\")\n",
    "        \n",
    "        self.sess = tf.Session()\n",
    "        self.sess.run(tf.global_variables_initializer())\n",
    "        \n",
    "        \n",
    "    def _build_network(self):\n",
    "        ##\n",
    "        self.inputs = tf.placeholder(shape = (None, self.s_size), dtype=tf.float32)\n",
    "        self.taken_actions = tf.placeholder(shape = (None, ), dtype = tf.int32)\n",
    "        self.discount_rewards = tf.placeholder(shape = (None,), dtype= tf.float32)\n",
    "        ##\n",
    "        actions = tf.one_hot(self.taken_actions, depth=self.a_size)\n",
    "        x = tf.layers.dense(self.inputs, units=self.h_size, activation=tf.nn.relu)\n",
    "        self.output = tf.layers.dense(x, units=self.a_size)\n",
    "        self.soft_out = tf.nn.softmax(self.output)\n",
    "        \n",
    "        self.loss = tf.reduce_mean(tf.nn.softmax_cross_entropy_with_logits_v2(logits=self.output,\n",
    "                                                                              labels=actions))\n",
    "        \n",
    "        optimizer = tf.train.AdamOptimizer(learning_rate = 1e-2)\n",
    "        self.gradient = optimizer.compute_gradients(self.loss)\n",
    "        for i, (grad, var) in enumerate(self.gradient):\n",
    "            if grad is not None:\n",
    "                \"\"\"\n",
    "                Remember to multiply with -1, because we are doing gradient ascent\n",
    "                Hence, gradient for descending is 0 ~ inf, we multiply -1 to make it -inf ~ 0\n",
    "                \"\"\"\n",
    "                self.gradient[i] = (grad * self.discount_rewards[i] * tf.constant([-1.]), var)\n",
    "        \n",
    "        self.train_op = optimizer.apply_gradients(self.gradient)\n",
    "        \n",
    "    def train(self, states, actions, rewards):\n",
    "        self.sess.run([self.train_op], feed_dict = {self.inputs: states,\n",
    "                                                    self.taken_actions: actions,\n",
    "                                                    self.discount_rewards: rewards})\n",
    "    \n",
    "    def act(self, states):\n",
    "        states = states.ravel()[np.newaxis, :]\n",
    "        probs = self.sess.run(self.soft_out, feed_dict = {self.inputs: states})[0]\n",
    "        action = np.random.choice(np.arange(self.a_size), p=probs)\n",
    "        # return selected action and its prob\n",
    "        return action"
   ]
  },
  {
   "cell_type": "markdown",
   "metadata": {},
   "source": [
    "### 3. Train the Agent with REINFORCE"
   ]
  },
  {
   "cell_type": "code",
   "execution_count": 64,
   "metadata": {},
   "outputs": [
    {
     "name": "stdout",
     "output_type": "stream",
     "text": [
      "Build model done\n",
      "Episode 100\tAverage Score: 22.13\n",
      "Episode 200\tAverage Score: 39.11\n",
      "Episode 300\tAverage Score: 61.53\n",
      "Episode 400\tAverage Score: 103.11\n",
      "Episode 500\tAverage Score: 128.73\n",
      "Episode 600\tAverage Score: 156.50\n",
      "Environment solved in 576 episodes!\tAverage Score: 195.13\n"
     ]
    }
   ],
   "source": [
    "tf.reset_default_graph()\n",
    "policy = Policy()\n",
    "\n",
    "def reinforce(n_episodes=1000, max_t=1000, gamma=1.0, print_every=100):\n",
    "    scores_deque = deque(maxlen=100)\n",
    "    scores = []\n",
    "    for i_episode in range(1, n_episodes+1):\n",
    "        saved_states = []\n",
    "        saved_actions = []\n",
    "        rewards = []\n",
    "        state = env.reset()\n",
    "        for t in range(max_t):\n",
    "            action = policy.act(state)\n",
    "            saved_states.append(state)\n",
    "            saved_actions.append(action)\n",
    "            state, reward, done, _ = env.step(action)\n",
    "            rewards.append(reward)\n",
    "            if done:\n",
    "                break \n",
    "        scores_deque.append(sum(rewards))\n",
    "        scores.append(sum(rewards))\n",
    "        \n",
    "        discounts = [gamma**i for i in range(len(rewards)+1)]\n",
    "        # get rewards for each action in the episose multiply by discount factor\n",
    "        R = [a*b for a,b in zip(discounts, rewards)]\n",
    "        policy.train(states=np.array(saved_states, dtype=np.float32), \n",
    "                     actions=np.array(saved_actions, dtype=np.int32), \n",
    "                     rewards=np.array(R, dtype=np.float32))\n",
    "        \n",
    "        if i_episode % print_every == 0:\n",
    "            print('Episode {}\\tAverage Score: {:.2f}'.format(i_episode, np.mean(scores_deque)))\n",
    "        if np.mean(scores_deque)>=195.0:\n",
    "            print('Environment solved in {:d} episodes!\\tAverage Score: {:.2f}'.format(i_episode-100, np.mean(scores_deque)))\n",
    "            break\n",
    "        \n",
    "    return scores\n",
    "    \n",
    "scores = reinforce()"
   ]
  },
  {
   "cell_type": "markdown",
   "metadata": {},
   "source": [
    "### 4. Plot the Scores"
   ]
  },
  {
   "cell_type": "code",
   "execution_count": 65,
   "metadata": {},
   "outputs": [
    {
     "data": {
      "image/png": "[encoded data removed]",
      "text/plain": [
       "<Figure size 432x288 with 1 Axes>"
      ]
     },
     "metadata": {
      "needs_background": "light"
     },
     "output_type": "display_data"
    }
   ],
   "source": [
    "fig = plt.figure()\n",
    "ax = fig.add_subplot(111)\n",
    "plt.plot(np.arange(1, len(scores)+1), scores)\n",
    "plt.ylabel('Score')\n",
    "plt.xlabel('Episode #')\n",
    "plt.show()"
   ]
  },
  {
   "cell_type": "markdown",
   "metadata": {},
   "source": [
    "### 5. Watch a Smart Agent!"
   ]
  },
  {
   "cell_type": "code",
   "execution_count": 66,
   "metadata": {},
   "outputs": [
    {
     "data": {
      "image/png": "[encoded data removed]",
      "text/plain": [
       "<Figure size 432x288 with 1 Axes>"
      ]
     },
     "metadata": {
      "needs_background": "light"
     },
     "output_type": "display_data"
    }
   ],
   "source": [
    "env = gym.make('CartPole-v0')\n",
    "\n",
    "state = env.reset()\n",
    "img = plt.imshow(env.render(mode='rgb_array'))\n",
    "for t in range(1000):\n",
    "    action = policy.act(state)\n",
    "    img.set_data(env.render(mode='rgb_array')) \n",
    "    plt.axis('off')\n",
    "    display.display(plt.gcf())\n",
    "    display.clear_output(wait=True)\n",
    "    state, reward, done, _ = env.step(action)\n",
    "    if done:\n",
    "        break \n",
    "\n",
    "env.close()"
   ]
  }
 ],
 "metadata": {
  "anaconda-cloud": {},
  "kernelspec": {
   "display_name": "Python 3",
   "language": "python",
   "name": "python3"
  },
  "language_info": {
   "codemirror_mode": {
    "name": "ipython",
    "version": 3
   },
   "file_extension": ".py",
   "mimetype": "text/x-python",
   "name": "python",
   "nbconvert_exporter": "python",
   "pygments_lexer": "ipython3",
   "version": "3.6.3"
  }
 },
 "nbformat": 4,
 "nbformat_minor": 2
}
